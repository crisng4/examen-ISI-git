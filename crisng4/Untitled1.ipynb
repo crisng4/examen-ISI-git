{
 "cells": [
  {
   "cell_type": "code",
   "execution_count": 2,
   "metadata": {
    "collapsed": false
   },
   "outputs": [
    {
     "ename": "SyntaxError",
     "evalue": "can't use starred expression here (<ipython-input-2-1fef1cbb5d66>, line 1)",
     "output_type": "error",
     "traceback": [
      "\u001b[0;36m  File \u001b[0;32m\"<ipython-input-2-1fef1cbb5d66>\"\u001b[0;36m, line \u001b[0;32m1\u001b[0m\n\u001b[0;31m    *Cristina(Nieto, García)\u001b[0m\n\u001b[0m                            ^\u001b[0m\n\u001b[0;31mSyntaxError\u001b[0m\u001b[0;31m:\u001b[0m can't use starred expression here\n"
     ]
    }
   ],
   "source": [
    "Cristina Nieto García"
   ]
  },
  {
   "cell_type": "code",
   "execution_count": 2,
   "metadata": {
    "collapsed": false
   },
   "outputs": [
    {
     "name": "stderr",
     "output_type": "stream",
     "text": [
      "/usr/local/lib/python3.5/dist-packages/IPython/config.py:13: ShimWarning: The `IPython.config` package has been deprecated. You should import from traitlets.config instead.\n",
      "  \"You should import from traitlets.config instead.\", ShimWarning)\n",
      "/usr/local/lib/python3.5/dist-packages/IPython/utils/traitlets.py:5: UserWarning: IPython.utils.traitlets has moved to a top-level traitlets package.\n",
      "  warn(\"IPython.utils.traitlets has moved to a top-level traitlets package.\")\n"
     ]
    }
   ],
   "source": [
    "%load_ext sql\n"
   ]
  },
  {
   "cell_type": "code",
   "execution_count": 3,
   "metadata": {
    "collapsed": false
   },
   "outputs": [
    {
     "data": {
      "text/plain": [
       "'Connected: None@midb.db'"
      ]
     },
     "execution_count": 3,
     "metadata": {},
     "output_type": "execute_result"
    }
   ],
   "source": [
    "%sql sqlite:///midb.db\n",
    "    "
   ]
  },
  {
   "cell_type": "code",
   "execution_count": 56,
   "metadata": {
    "collapsed": false
   },
   "outputs": [
    {
     "name": "stdout",
     "output_type": "stream",
     "text": [
      "Done.\n"
     ]
    },
    {
     "data": {
      "text/plain": [
       "[]"
      ]
     },
     "execution_count": 56,
     "metadata": {},
     "output_type": "execute_result"
    }
   ],
   "source": [
    "%%sql \n",
    "DROP TABLE Jugador;"
   ]
  },
  {
   "cell_type": "code",
   "execution_count": 57,
   "metadata": {
    "collapsed": false
   },
   "outputs": [
    {
     "name": "stdout",
     "output_type": "stream",
     "text": [
      "Done.\n"
     ]
    },
    {
     "data": {
      "text/plain": [
       "[]"
      ]
     },
     "execution_count": 57,
     "metadata": {},
     "output_type": "execute_result"
    }
   ],
   "source": [
    "%%sql\n",
    "CREATE TABLE Jugador(nif varchar(10)  NOT NULL,nombre varchar(50), apellidos varchar(50), fecha_y_hora DATETIME, puesto varchar(50), record int, equipo varchar(50) ,PRIMARY KEY(nif),FOREIGN KEY(equipo) REFERENCES Equipo(nombre));"
   ]
  },
  {
   "cell_type": "code",
   "execution_count": 58,
   "metadata": {
    "collapsed": false
   },
   "outputs": [
    {
     "name": "stdout",
     "output_type": "stream",
     "text": [
      "1 rows affected.\n"
     ]
    },
    {
     "data": {
      "text/plain": [
       "[]"
      ]
     },
     "execution_count": 58,
     "metadata": {},
     "output_type": "execute_result"
    }
   ],
   "source": [
    "%%sql\n",
    "INSERT INTO Jugador(nif,nombre,apellidos, fecha_y_Hora,puesto,record,equipo)\n",
    "VALUES ('015478A','Jorge','Romero Ruiz',\"2016-09-31 10:05:00\", \"defensa\", 50, \"Real Madrid\");"
   ]
  },
  {
   "cell_type": "code",
   "execution_count": 59,
   "metadata": {
    "collapsed": false
   },
   "outputs": [
    {
     "name": "stdout",
     "output_type": "stream",
     "text": [
      "1 rows affected.\n"
     ]
    },
    {
     "data": {
      "text/plain": [
       "[]"
      ]
     },
     "execution_count": 59,
     "metadata": {},
     "output_type": "execute_result"
    }
   ],
   "source": [
    "%%sql\n",
    "INSERT INTO Jugador(nif,nombre,apellidos, fecha_y_Hora,puesto,record,equipo)\n",
    "VALUES ('000001P','Pablo','Quintana Mora',\"2016-09-30 20:05:00\", \"defensa\", 35, \"Toledo\");"
   ]
  },
  {
   "cell_type": "code",
   "execution_count": 60,
   "metadata": {
    "collapsed": false
   },
   "outputs": [
    {
     "name": "stdout",
     "output_type": "stream",
     "text": [
      "1 rows affected.\n",
      "1 rows affected.\n",
      "1 rows affected.\n",
      "1 rows affected.\n"
     ]
    },
    {
     "data": {
      "text/plain": [
       "[]"
      ]
     },
     "execution_count": 60,
     "metadata": {},
     "output_type": "execute_result"
    }
   ],
   "source": [
    "%%sql\n",
    "INSERT INTO Jugador(nif,nombre,apellidos, fecha_y_Hora,puesto,record,equipo)\n",
    "VALUES ('055555U','Fernando','Rioja Prado',\"2016-01-31 16:05:00\", \"del\", 60, \"Toledo\");\n",
    "INSERT INTO Jugador(nif,nombre,apellidos, fecha_y_Hora,puesto,record,equipo)\n",
    "VALUES ('088888','Javier','Morata Ruiz',\"2016-08-04 19:00:00\", \"defensa\", 30, \"Barcelona\");\n",
    "INSERT INTO Jugador(nif,nombre,apellidos, fecha_y_Hora,puesto,record,equipo)\n",
    "VALUES ('077777L','Jose','Pardo Nieto',\"2016-08-31 12:05:00\", \"del\", 22, \"Valladolid\");\n",
    "INSERT INTO Jugador(nif,nombre,apellidos, fecha_y_Hora,puesto,record,equipo)\n",
    "VALUES ('066666','Javier','Sanchez Letamendia',\"2016-03-04 15:00:00\", \"del\", 30, \"Barcelona\");"
   ]
  },
  {
   "cell_type": "code",
   "execution_count": 61,
   "metadata": {
    "collapsed": false
   },
   "outputs": [
    {
     "name": "stdout",
     "output_type": "stream",
     "text": [
      "Done.\n"
     ]
    },
    {
     "data": {
      "text/plain": [
       "[]"
      ]
     },
     "execution_count": 61,
     "metadata": {},
     "output_type": "execute_result"
    }
   ],
   "source": [
    "%%sql \n",
    "DROP TABLE Entrenador;"
   ]
  },
  {
   "cell_type": "code",
   "execution_count": 62,
   "metadata": {
    "collapsed": false
   },
   "outputs": [
    {
     "name": "stdout",
     "output_type": "stream",
     "text": [
      "Done.\n"
     ]
    },
    {
     "data": {
      "text/plain": [
       "[]"
      ]
     },
     "execution_count": 62,
     "metadata": {},
     "output_type": "execute_result"
    }
   ],
   "source": [
    "%%sql\n",
    "CREATE TABLE Entrenador(nif varchar(10)  NOT NULL, nombre varchar(50), apellidos varchar(50), fecha_y_hora DATETIME, equipo varchar(50),PRIMARY KEY(nif),FOREIGN KEY(equipo) REFERENCES Equipo(nombre));"
   ]
  },
  {
   "cell_type": "code",
   "execution_count": 63,
   "metadata": {
    "collapsed": false
   },
   "outputs": [
    {
     "name": "stdout",
     "output_type": "stream",
     "text": [
      "1 rows affected.\n",
      "1 rows affected.\n",
      "1 rows affected.\n",
      "1 rows affected.\n"
     ]
    },
    {
     "data": {
      "text/plain": [
       "[]"
      ]
     },
     "execution_count": 63,
     "metadata": {},
     "output_type": "execute_result"
    }
   ],
   "source": [
    "%%sql\n",
    "INSERT INTO Entrenador(nif,nombre,apellidos, fecha_y_Hora,equipo)\n",
    "VALUES ('11111Y','Carlos','Menchero De la Fuente',\"2016-01-30 17:05:00\",\"Toledo\");\n",
    "INSERT INTO Entrenador(nif,nombre,apellidos, fecha_y_Hora,equipo)\n",
    "VALUES ('22222M','Roberto','Gallardo Maestre',\"2016-08-04 19:00:00\", \"Real Madrid\");\n",
    "INSERT INTO Entrenador(nif,nombre,apellidos, fecha_y_Hora,equipo)\n",
    "VALUES ('055555U','Diego','Diaz Mateo',\"2016-04-31 16:05:00\", \"Barcelona\");\n",
    "INSERT INTO Entrenador(nif,nombre,apellidos, fecha_y_Hora,equipo)\n",
    "VALUES ('0777754','Cesar','Diaz Pulido',\"2016-01-25 16:05:00\", \"Valladolid\");"
   ]
  },
  {
   "cell_type": "code",
   "execution_count": 53,
   "metadata": {
    "collapsed": false
   },
   "outputs": [
    {
     "name": "stdout",
     "output_type": "stream",
     "text": [
      "Done.\n"
     ]
    },
    {
     "data": {
      "text/plain": [
       "[]"
      ]
     },
     "execution_count": 53,
     "metadata": {},
     "output_type": "execute_result"
    }
   ],
   "source": [
    "%%sql \n",
    "DROP TABLE Equipo;"
   ]
  },
  {
   "cell_type": "code",
   "execution_count": 54,
   "metadata": {
    "collapsed": false
   },
   "outputs": [
    {
     "name": "stdout",
     "output_type": "stream",
     "text": [
      "Done.\n"
     ]
    },
    {
     "data": {
      "text/plain": [
       "[]"
      ]
     },
     "execution_count": 54,
     "metadata": {},
     "output_type": "execute_result"
    }
   ],
   "source": [
    "%%sql\n",
    "CREATE TABLE Equipo(nombre varchar(50), nombre_ciudad varchar(50), PRIMARY KEY(nombre),FOREIGN KEY(nombre_ciudad) REFERENCES Ciudad(nombre));"
   ]
  },
  {
   "cell_type": "code",
   "execution_count": 55,
   "metadata": {
    "collapsed": false
   },
   "outputs": [
    {
     "name": "stdout",
     "output_type": "stream",
     "text": [
      "1 rows affected.\n",
      "1 rows affected.\n",
      "1 rows affected.\n",
      "1 rows affected.\n"
     ]
    },
    {
     "data": {
      "text/plain": [
       "[]"
      ]
     },
     "execution_count": 55,
     "metadata": {},
     "output_type": "execute_result"
    }
   ],
   "source": [
    "%%sql \n",
    "INSERT INTO Equipo(nombre,nombre_ciudad)\n",
    "VALUES ('Real Madrid', 'Madrid');\n",
    "INSERT INTO Equipo(nombre, nombre_ciudad)\n",
    "VALUES ('Barcelona','Barcelona');\n",
    "INSERT INTO Equipo(nombre, nombre_ciudad)\n",
    "VALUES ('Toledo','Toledo');\n",
    "INSERT INTO Equipo(nombre, nombre_ciudad)\n",
    "VALUES ('Valladolid','Valladolid');\n",
    "\n"
   ]
  },
  {
   "cell_type": "code",
   "execution_count": 9,
   "metadata": {
    "collapsed": false
   },
   "outputs": [
    {
     "name": "stdout",
     "output_type": "stream",
     "text": [
      "Done.\n"
     ]
    },
    {
     "data": {
      "text/plain": [
       "[]"
      ]
     },
     "execution_count": 9,
     "metadata": {},
     "output_type": "execute_result"
    }
   ],
   "source": [
    "%%sql \n",
    "DROP TABLE Ciudad;"
   ]
  },
  {
   "cell_type": "code",
   "execution_count": 10,
   "metadata": {
    "collapsed": false
   },
   "outputs": [
    {
     "name": "stdout",
     "output_type": "stream",
     "text": [
      "Done.\n"
     ]
    },
    {
     "data": {
      "text/plain": [
       "[]"
      ]
     },
     "execution_count": 10,
     "metadata": {},
     "output_type": "execute_result"
    }
   ],
   "source": [
    "%%sql\n",
    "CREATE TABLE Ciudad(nombre varchar(50), PRIMARY KEY(nombre));"
   ]
  },
  {
   "cell_type": "code",
   "execution_count": 68,
   "metadata": {
    "collapsed": false
   },
   "outputs": [
    {
     "name": "stdout",
     "output_type": "stream",
     "text": [
      "1 rows affected.\n",
      "1 rows affected.\n",
      "1 rows affected.\n",
      "1 rows affected.\n"
     ]
    },
    {
     "data": {
      "text/plain": [
       "[]"
      ]
     },
     "execution_count": 68,
     "metadata": {},
     "output_type": "execute_result"
    }
   ],
   "source": [
    "%%sql \n",
    "INSERT INTO Ciudad(nombre)\n",
    "VALUES ('Barcelona');\n",
    "INSERT INTO Ciudad(nombre)\n",
    "VALUES ('Toledo');\n",
    "INSERT INTO Ciudad(nombre)\n",
    "VALUES ('Valladolid');\n",
    "INSERT INTO Ciudad(nombre)\n",
    "VALUES ('Madrid');"
   ]
  },
  {
   "cell_type": "code",
   "execution_count": 11,
   "metadata": {
    "collapsed": false
   },
   "outputs": [
    {
     "name": "stdout",
     "output_type": "stream",
     "text": [
      "Done.\n"
     ]
    },
    {
     "data": {
      "text/plain": [
       "[]"
      ]
     },
     "execution_count": 11,
     "metadata": {},
     "output_type": "execute_result"
    }
   ],
   "source": [
    "%%sql \n",
    "DROP TABLE ESituadoEnC;"
   ]
  },
  {
   "cell_type": "code",
   "execution_count": 32,
   "metadata": {
    "collapsed": false
   },
   "outputs": [
    {
     "name": "stdout",
     "output_type": "stream",
     "text": [
      "Done.\n"
     ]
    },
    {
     "data": {
      "text/plain": [
       "[]"
      ]
     },
     "execution_count": 32,
     "metadata": {},
     "output_type": "execute_result"
    }
   ],
   "source": [
    "%%sql\n",
    "CREATE TABLE ESituadoEnC(nombre_equipo varchar(50),nombre_ciudad varchar(50), PRIMARY KEY(nombre_equipo,nombre_ciudad), UNIQUE(nombre_equipo,nombre_ciudad), FOREIGN KEY(nombre_equipo) REFERENCES Equipo(nombre), FOREIGN KEY(nombre_ciudad) REFERENCES Ciudad(nombre));"
   ]
  },
  {
   "cell_type": "code",
   "execution_count": 74,
   "metadata": {
    "collapsed": false
   },
   "outputs": [
    {
     "name": "stdout",
     "output_type": "stream",
     "text": [
      "Done.\n"
     ]
    },
    {
     "data": {
      "text/plain": [
       "[]"
      ]
     },
     "execution_count": 74,
     "metadata": {},
     "output_type": "execute_result"
    }
   ],
   "source": [
    "%%sql \n",
    "DROP TABLE ComunidadAutonoma;"
   ]
  },
  {
   "cell_type": "code",
   "execution_count": 75,
   "metadata": {
    "collapsed": false
   },
   "outputs": [
    {
     "name": "stdout",
     "output_type": "stream",
     "text": [
      "Done.\n"
     ]
    },
    {
     "data": {
      "text/plain": [
       "[]"
      ]
     },
     "execution_count": 75,
     "metadata": {},
     "output_type": "execute_result"
    }
   ],
   "source": [
    "%%sql\n",
    "CREATE TABLE ComunidadAutonoma(nombre varchar(50), numero_ciudades int, PRIMARY KEY(nombre));"
   ]
  },
  {
   "cell_type": "code",
   "execution_count": 76,
   "metadata": {
    "collapsed": false
   },
   "outputs": [
    {
     "name": "stdout",
     "output_type": "stream",
     "text": [
      "1 rows affected.\n",
      "1 rows affected.\n",
      "1 rows affected.\n",
      "1 rows affected.\n"
     ]
    },
    {
     "data": {
      "text/plain": [
       "[]"
      ]
     },
     "execution_count": 76,
     "metadata": {},
     "output_type": "execute_result"
    }
   ],
   "source": [
    "%%sql \n",
    "INSERT INTO ComunidadAutonoma(nombre,numero_ciudades)\n",
    "VALUES ('Cataluna',4);\n",
    "INSERT INTO ComunidadAutonoma(nombre,numero_ciudades)\n",
    "VALUES ('Castilla La Mancha',5);\n",
    "INSERT INTO ComunidadAutonoma(nombre,numero_ciudades)\n",
    "VALUES ('Castilla y León',7);\n",
    "INSERT INTO ComunidadAutonoma(nombre,numero_ciudades)\n",
    "VALUES ('Madrid',1);"
   ]
  },
  {
   "cell_type": "code",
   "execution_count": 36,
   "metadata": {
    "collapsed": false
   },
   "outputs": [
    {
     "name": "stdout",
     "output_type": "stream",
     "text": [
      "Done.\n"
     ]
    },
    {
     "data": {
      "text/plain": [
       "[]"
      ]
     },
     "execution_count": 36,
     "metadata": {},
     "output_type": "execute_result"
    }
   ],
   "source": [
    "%%sql\n",
    "CREATE TABLE CiudadSitadaEnCA(nombre_ciudad varchar(50),nombre_comunidad varchar(50), PRIMARY KEY(nombre_ciudad,nombre_comunidad), UNIQUE(nombre_ciudad,nombre_comunidad), FOREIGN KEY(nombre_ciudad) REFERENCES Ciudad(nombre), FOREIGN KEY(nombre_comunidad) REFERENCES ComunidadAutonoma(nombre));"
   ]
  },
  {
   "cell_type": "code",
   "execution_count": 32,
   "metadata": {
    "collapsed": false
   },
   "outputs": [
    {
     "name": "stdout",
     "output_type": "stream",
     "text": [
      "Done.\n"
     ]
    },
    {
     "data": {
      "text/plain": [
       "[]"
      ]
     },
     "execution_count": 32,
     "metadata": {},
     "output_type": "execute_result"
    }
   ],
   "source": [
    "%%sql \n",
    "DROP TABLE Partido;"
   ]
  },
  {
   "cell_type": "code",
   "execution_count": 33,
   "metadata": {
    "collapsed": false
   },
   "outputs": [
    {
     "name": "stdout",
     "output_type": "stream",
     "text": [
      "Done.\n"
     ]
    },
    {
     "data": {
      "text/plain": [
       "[]"
      ]
     },
     "execution_count": 33,
     "metadata": {},
     "output_type": "execute_result"
    }
   ],
   "source": [
    "%%sql\n",
    "CREATE TABLE Partido(id int,nombre_cancha varchar(50),tiempo int, UNIQUE(id), PRIMARY KEY(id),FOREIGN KEY (tiempo) REFERENCES tiempo(id), FOREIGN KEY (nombre_cancha) REFERENCES Cancha(nombre));"
   ]
  },
  {
   "cell_type": "code",
   "execution_count": 22,
   "metadata": {
    "collapsed": false
   },
   "outputs": [
    {
     "name": "stdout",
     "output_type": "stream",
     "text": [
      "Done.\n"
     ]
    },
    {
     "data": {
      "text/plain": [
       "[]"
      ]
     },
     "execution_count": 22,
     "metadata": {},
     "output_type": "execute_result"
    }
   ],
   "source": [
    "%%sql \n",
    "DROP TABLE tiempo;"
   ]
  },
  {
   "cell_type": "code",
   "execution_count": 24,
   "metadata": {
    "collapsed": false
   },
   "outputs": [
    {
     "name": "stdout",
     "output_type": "stream",
     "text": [
      "Done.\n"
     ]
    },
    {
     "data": {
      "text/plain": [
       "[]"
      ]
     },
     "execution_count": 24,
     "metadata": {},
     "output_type": "execute_result"
    }
   ],
   "source": [
    "%%sql\n",
    "CREATE TABLE tiempo(id int,puntuacion int, id_partido int, hora_in datetime, hora_fin datetime, PRIMARY KEY(id,id_partido),FOREIGN KEY (id_partido) REFERENCES Partido(id));"
   ]
  },
  {
   "cell_type": "code",
   "execution_count": 21,
   "metadata": {
    "collapsed": false
   },
   "outputs": [
    {
     "name": "stdout",
     "output_type": "stream",
     "text": [
      "Done.\n"
     ]
    },
    {
     "data": {
      "text/plain": [
       "[]"
      ]
     },
     "execution_count": 21,
     "metadata": {},
     "output_type": "execute_result"
    }
   ],
   "source": [
    "%%sql\n",
    "CREATE TABLE Equipo1_contra_Equipo2(nombre_equipo1 varchar(50), nombre_equipo2 varchar(50), id_partido int, UNIQUE(nombre_equipo1,nombre_equipo2), PRIMARY KEY(nombre_equipo1,nombre_equipo2),FOREIGN KEY (id_partido) REFERENCES Partido(id));"
   ]
  },
  {
   "cell_type": "code",
   "execution_count": 77,
   "metadata": {
    "collapsed": false
   },
   "outputs": [
    {
     "name": "stdout",
     "output_type": "stream",
     "text": [
      "1 rows affected.\n",
      "1 rows affected.\n",
      "1 rows affected.\n",
      "1 rows affected.\n",
      "1 rows affected.\n",
      "1 rows affected.\n"
     ]
    },
    {
     "data": {
      "text/plain": [
       "[]"
      ]
     },
     "execution_count": 77,
     "metadata": {},
     "output_type": "execute_result"
    }
   ],
   "source": [
    "%%sql \n",
    "INSERT INTO Equipo1_contra_Equipo2(nombre_equipo1,nombre_equipo2,id_partido)\n",
    "VALUES ('Barcelona','Toledo',1);\n",
    "INSERT INTO Equipo1_contra_Equipo2(nombre_equipo1,nombre_equipo2,id_partido)\n",
    "VALUES ('Barcelona', 'Real Madrid',2);\n",
    "INSERT INTO Equipo1_contra_Equipo2(nombre_equipo1,nombre_equipo2,id_partido)\n",
    "VALUES ('Barcelona', 'Valladolid',3);\n",
    "INSERT INTO Equipo1_contra_Equipo2(nombre_equipo1,nombre_equipo2,id_partido)\n",
    "VALUES ('Toledo', 'Valladolid',4);\n",
    "INSERT INTO Equipo1_contra_Equipo2(nombre_equipo1,nombre_equipo2,id_partido)\n",
    "VALUES ('Toledo', 'Real Madrid',5);\n",
    "INSERT INTO Equipo1_contra_Equipo2(nombre_equipo1,nombre_equipo2,id_partido)\n",
    "VALUES ('Real Madrid', 'Valladolid',6);\n"
   ]
  },
  {
   "cell_type": "code",
   "execution_count": 15,
   "metadata": {
    "collapsed": false
   },
   "outputs": [
    {
     "name": "stdout",
     "output_type": "stream",
     "text": [
      "Done.\n"
     ]
    },
    {
     "data": {
      "text/plain": [
       "[]"
      ]
     },
     "execution_count": 15,
     "metadata": {},
     "output_type": "execute_result"
    }
   ],
   "source": [
    "%%sql\n",
    "DROP TABLE Cancha;"
   ]
  },
  {
   "cell_type": "code",
   "execution_count": 16,
   "metadata": {
    "collapsed": false
   },
   "outputs": [
    {
     "name": "stdout",
     "output_type": "stream",
     "text": [
      "Done.\n"
     ]
    },
    {
     "data": {
      "text/plain": [
       "[]"
      ]
     },
     "execution_count": 16,
     "metadata": {},
     "output_type": "execute_result"
    }
   ],
   "source": [
    "%%sql\n",
    "CREATE TABLE Cancha(nombre varchar(50), nombre_equipo varchar(50), nombre_ciudad varchar(50),PRIMARY KEY(nombre),FOREIGN KEY (nombre_equipo) REFERENCES Equipo(nombre),FOREIGN KEY (nombre_ciudad) REFERENCES Ciudad(nombre));"
   ]
  },
  {
   "cell_type": "code",
   "execution_count": 39,
   "metadata": {
    "collapsed": false
   },
   "outputs": [
    {
     "name": "stdout",
     "output_type": "stream",
     "text": [
      "(sqlite3.OperationalError) no such table: Direccion [SQL: 'DROP TABLE Direccion;']\n"
     ]
    }
   ],
   "source": [
    "%%sql\n",
    "DROP TABLE Direccion;"
   ]
  },
  {
   "cell_type": "code",
   "execution_count": 40,
   "metadata": {
    "collapsed": false
   },
   "outputs": [
    {
     "name": "stdout",
     "output_type": "stream",
     "text": [
      "Done.\n"
     ]
    },
    {
     "data": {
      "text/plain": [
       "[]"
      ]
     },
     "execution_count": 40,
     "metadata": {},
     "output_type": "execute_result"
    }
   ],
   "source": [
    "%%sql\n",
    "CREATE TABLE Direccion(calle varchar(50),numero int, ciudad varchar(50), comunidad_autonoma varchar(50),PRIMARY KEY(calle,numero,ciudad,comunidad_autonoma), UNIQUE(calle,numero,ciudad,comunidad_autonoma), FOREIGN KEY (ciudad) REFERENCES Ciudad(nombre),FOREIGN KEY (comunidad_autonoma) REFERENCES ComunidadAutonoma(nombre));"
   ]
  },
  {
   "cell_type": "code",
   "execution_count": 18,
   "metadata": {
    "collapsed": false
   },
   "outputs": [
    {
     "name": "stdout",
     "output_type": "stream",
     "text": [
      "Done.\n"
     ]
    },
    {
     "data": {
      "text/plain": [
       "[]"
      ]
     },
     "execution_count": 18,
     "metadata": {},
     "output_type": "execute_result"
    }
   ],
   "source": [
    "%%sql\n",
    "CREATE TABLE Empresa(cif varchar(10)  NOT NULL,nombre varchar(50), equipo_patrocinado varchar(50),PRIMARY KEY(cif),FOREIGN KEY (equipo_patrocinado) REFERENCES Equipo(nombre));"
   ]
  },
  {
   "cell_type": "code",
   "execution_count": 78,
   "metadata": {
    "collapsed": false
   },
   "outputs": [
    {
     "name": "stdout",
     "output_type": "stream",
     "text": [
      "1 rows affected.\n",
      "1 rows affected.\n",
      "1 rows affected.\n",
      "1 rows affected.\n"
     ]
    },
    {
     "data": {
      "text/plain": [
       "[]"
      ]
     },
     "execution_count": 78,
     "metadata": {},
     "output_type": "execute_result"
    }
   ],
   "source": [
    "%%sql\n",
    "INSERT INTO Empresa(cif,nombre,equipo_patrocinado)\n",
    "VALUES ('0000001', 'BBVA','Toledo');\n",
    "INSERT INTO Empresa(cif,nombre,equipo_patrocinado)\n",
    "VALUES ('0000002', 'Amazon','Real Madrid');\n",
    "INSERT INTO Empresa(cif,nombre,equipo_patrocinado)\n",
    "VALUES ('0000022', 'Apple','Barcelona');\n",
    "INSERT INTO Empresa(cif,nombre,equipo_patrocinado)\n",
    "VALUES ('0000003', 'BQ','Valladolid');\n"
   ]
  },
  {
   "cell_type": "code",
   "execution_count": 34,
   "metadata": {
    "collapsed": false
   },
   "outputs": [
    {
     "name": "stdout",
     "output_type": "stream",
     "text": [
      "Done.\n"
     ]
    },
    {
     "data": {
      "text/plain": [
       "[]"
      ]
     },
     "execution_count": 34,
     "metadata": {},
     "output_type": "execute_result"
    }
   ],
   "source": [
    "%%sql\n",
    "CREATE TABLE JugadasEnPartido(hora_in datetime, hora_fin datetime, nombre_jugador varchar(50), coordenada_x int, coordenada_y int, PRIMARY KEY(hora_in,hora_fin,nombre_jugador),FOREIGN KEY (nombre_jugador) REFERENCES Jugador(nombre) );"
   ]
  },
  {
   "cell_type": "code",
   "execution_count": 35,
   "metadata": {
    "collapsed": false
   },
   "outputs": [
    {
     "name": "stdout",
     "output_type": "stream",
     "text": [
      "Done.\n"
     ]
    },
    {
     "data": {
      "text/plain": [
       "[]"
      ]
     },
     "execution_count": 35,
     "metadata": {},
     "output_type": "execute_result"
    }
   ],
   "source": [
    "%%sql\n",
    "CREATE TABLE JugadasDefensa(hora_in datetime, hora_fin datetime, nombre_jugador varchar(50),jugador_defendido varchar(50), PRIMARY KEY(hora_in,hora_fin,nombre_jugador),FOREIGN KEY (hora_in,hora_fin,nombre_jugador) REFERENCES JugadasEnPartido(hora_in,hora_fin,nombre_jugador) );"
   ]
  },
  {
   "cell_type": "markdown",
   "metadata": {
    "collapsed": true
   },
   "source": [
    "![Diagrama E/R](IMG_20161017_234834.jpg)"
   ]
  },
  {
   "cell_type": "markdown",
   "metadata": {},
   "source": [
    "![Diagrama E/R](IMG_20161017_234827.jpg)"
   ]
  },
  {
   "cell_type": "code",
   "execution_count": null,
   "metadata": {
    "collapsed": true
   },
   "outputs": [],
   "source": []
  }
 ],
 "metadata": {
  "kernelspec": {
   "display_name": "Python 3",
   "language": "python",
   "name": "python3"
  },
  "language_info": {
   "codemirror_mode": {
    "name": "ipython",
    "version": 3
   },
   "file_extension": ".py",
   "mimetype": "text/x-python",
   "name": "python",
   "nbconvert_exporter": "python",
   "pygments_lexer": "ipython3",
   "version": "3.5.2"
  }
 },
 "nbformat": 4,
 "nbformat_minor": 1
}
